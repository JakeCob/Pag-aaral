{
 "cells": [
  {
   "cell_type": "markdown",
   "id": "5d6f97a5",
   "metadata": {},
   "source": [
    "You are building a simple keyword extraction feature for an LLM-powered document analysis system. Given a list of processed document chunks (strings) and a target keyword, count how many chunks contain the keyword (case-insensitive).\n",
    "\n",
    "Additionally, return a mapping of each unique chunk to the number of times it appears in the list, but only for chunks that contain the target keyword."
   ]
  },
  {
   "cell_type": "markdown",
   "id": "383edd4c",
   "metadata": {},
   "source": [
    "keyword extraction feature\n",
    "how many chunks contain the keyword (case-insensitive)\n",
    "\n"
   ]
  },
  {
   "cell_type": "code",
   "execution_count": 3,
   "id": "8442e7ed",
   "metadata": {},
   "outputs": [],
   "source": [
    "def count_keyword_chunks(chunks: list[str], keyword: str) -> dict:\n",
    "    \"\"\"\n",
    "    Args:\n",
    "        chunks: List of document chunk strings\n",
    "        keyword: Target keyword to search for (case-insensitive)\n",
    "\n",
    "    Returns:\n",
    "        Dictionary with:\n",
    "        - 'total_matching_chunks': int - number of chunks containing keyword\n",
    "        - 'chunk_frequency': dict - mapping of matching chunks to their frequencies\n",
    "    \"\"\"\n",
    "    total_matching_chunks = 0\n",
    "    chunk_frequency = {}\n",
    "    for chunk in chunks:\n",
    "        if keyword.lower() in chunk.lower():\n",
    "            total_matching_chunks += 1\n",
    "            chunk_frequency[chunk] = chunk_frequency.get(chunk, 0) + 1\n",
    "    return {\n",
    "        'total_matching_chunks': total_matching_chunks,\n",
    "        'chunk_frequency': chunk_frequency\n",
    "    }"
   ]
  },
  {
   "cell_type": "code",
   "execution_count": 4,
   "id": "0c0625ce",
   "metadata": {},
   "outputs": [
    {
     "name": "stdout",
     "output_type": "stream",
     "text": [
      "{'total_matching_chunks': 4, 'chunk_frequency': {'The AI model generates responses': 2, 'The AI model is trained on data': 1, 'Deep learning is a subset of AI': 1}}\n"
     ]
    }
   ],
   "source": [
    "chunks = [\n",
    "    \"The AI model generates responses\",\n",
    "    \"Machine learning requires data\",\n",
    "    \"The AI model is trained on data\",\n",
    "    \"The AI model generates responses\",\n",
    "    \"Deep learning is a subset of AI\"\n",
    "]\n",
    "keyword = \"ai\"\n",
    "\n",
    "result = count_keyword_chunks(chunks, keyword)\n",
    "print(result)"
   ]
  },
  {
   "cell_type": "code",
   "execution_count": 9,
   "id": "bd3c7d1f",
   "metadata": {},
   "outputs": [
    {
     "name": "stdout",
     "output_type": "stream",
     "text": [
      "{'total_matching_chunks': 2, 'chunk_frequency': {'hello world': 1, 'goodbye world': 1}}\n"
     ]
    }
   ],
   "source": [
    "chunks = [\"hello world\", \"goodbye world\", \"hello there\"]\n",
    "keyword = \"world\"\n",
    "\n",
    "result = count_keyword_chunks(chunks, keyword)\n",
    "print(result)"
   ]
  },
  {
   "cell_type": "code",
   "execution_count": 10,
   "id": "98bb2419",
   "metadata": {},
   "outputs": [
    {
     "name": "stdout",
     "output_type": "stream",
     "text": [
      "{'total_matching_chunks': 0, 'chunk_frequency': {}}\n"
     ]
    }
   ],
   "source": [
    "chunks = [\"python programming\", \"java programming\", \"c++ coding\"]\n",
    "keyword = \"rust\"\n",
    "\n",
    "result = count_keyword_chunks(chunks, keyword)\n",
    "print(result)"
   ]
  },
  {
   "cell_type": "markdown",
   "id": "ceb2d440",
   "metadata": {},
   "source": [
    "The Big O notation for this function is O(n × m × k), where:\n",
    "\n",
    "n = number of chunks in the list\n",
    "m = average length of each chunk (in characters)\n",
    "k = length of the keyword"
   ]
  },
  {
   "cell_type": "code",
   "execution_count": null,
   "id": "d2edf942",
   "metadata": {},
   "outputs": [],
   "source": []
  }
 ],
 "metadata": {
  "kernelspec": {
   "display_name": "Python 3",
   "language": "python",
   "name": "python3"
  },
  "language_info": {
   "codemirror_mode": {
    "name": "ipython",
    "version": 3
   },
   "file_extension": ".py",
   "mimetype": "text/x-python",
   "name": "python",
   "nbconvert_exporter": "python",
   "pygments_lexer": "ipython3",
   "version": "3.10.12"
  }
 },
 "nbformat": 4,
 "nbformat_minor": 5
}
